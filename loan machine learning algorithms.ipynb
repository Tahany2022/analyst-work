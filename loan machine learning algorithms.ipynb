{
 "cells": [
  {
   "cell_type": "code",
   "execution_count": 21,
   "id": "09571464",
   "metadata": {},
   "outputs": [
    {
     "name": "stdout",
     "output_type": "stream",
     "text": [
      "Requirement already satisfied: datasist in c:\\users\\xps\\anaconda3\\lib\\site-packages (1.5.3)\n",
      "Requirement already satisfied: Joblib in c:\\users\\xps\\anaconda3\\lib\\site-packages (from datasist) (1.1.0)\n",
      "Requirement already satisfied: scikit-learn in c:\\users\\xps\\anaconda3\\lib\\site-packages (from datasist) (1.1.3)\n",
      "Requirement already satisfied: matplotlib in c:\\users\\xps\\anaconda3\\lib\\site-packages (from datasist) (3.5.1)\n",
      "Requirement already satisfied: pandas in c:\\users\\xps\\anaconda3\\lib\\site-packages (from datasist) (1.4.2)\n",
      "Requirement already satisfied: seaborn in c:\\users\\xps\\anaconda3\\lib\\site-packages (from datasist) (0.11.2)\n",
      "Requirement already satisfied: nltk in c:\\users\\xps\\anaconda3\\lib\\site-packages (from datasist) (3.7)\n",
      "Requirement already satisfied: jupyter in c:\\users\\xps\\anaconda3\\lib\\site-packages (from datasist) (1.0.0)\n",
      "Requirement already satisfied: numpy in c:\\users\\xps\\anaconda3\\lib\\site-packages (from datasist) (1.21.5)\n",
      "Requirement already satisfied: ipykernel in c:\\users\\xps\\anaconda3\\lib\\site-packages (from jupyter->datasist) (6.9.1)\n",
      "Requirement already satisfied: qtconsole in c:\\users\\xps\\anaconda3\\lib\\site-packages (from jupyter->datasist) (5.3.0)\n",
      "Requirement already satisfied: nbconvert in c:\\users\\xps\\anaconda3\\lib\\site-packages (from jupyter->datasist) (6.4.4)\n",
      "Requirement already satisfied: notebook in c:\\users\\xps\\anaconda3\\lib\\site-packages (from jupyter->datasist) (6.4.8)\n",
      "Requirement already satisfied: ipywidgets in c:\\users\\xps\\anaconda3\\lib\\site-packages (from jupyter->datasist) (7.6.5)\n",
      "Requirement already satisfied: jupyter-console in c:\\users\\xps\\anaconda3\\lib\\site-packages (from jupyter->datasist) (6.4.0)\n",
      "Requirement already satisfied: jupyter-client<8.0 in c:\\users\\xps\\anaconda3\\lib\\site-packages (from ipykernel->jupyter->datasist) (6.1.12)\n",
      "Requirement already satisfied: debugpy<2.0,>=1.0.0 in c:\\users\\xps\\anaconda3\\lib\\site-packages (from ipykernel->jupyter->datasist) (1.5.1)\n",
      "Requirement already satisfied: ipython>=7.23.1 in c:\\users\\xps\\anaconda3\\lib\\site-packages (from ipykernel->jupyter->datasist) (8.2.0)\n",
      "Requirement already satisfied: nest-asyncio in c:\\users\\xps\\anaconda3\\lib\\site-packages (from ipykernel->jupyter->datasist) (1.5.5)\n",
      "Requirement already satisfied: matplotlib-inline<0.2.0,>=0.1.0 in c:\\users\\xps\\anaconda3\\lib\\site-packages (from ipykernel->jupyter->datasist) (0.1.2)\n",
      "Requirement already satisfied: traitlets<6.0,>=5.1.0 in c:\\users\\xps\\anaconda3\\lib\\site-packages (from ipykernel->jupyter->datasist) (5.1.1)\n",
      "Requirement already satisfied: tornado<7.0,>=4.2 in c:\\users\\xps\\anaconda3\\lib\\site-packages (from ipykernel->jupyter->datasist) (6.1)\n",
      "Requirement already satisfied: pygments>=2.4.0 in c:\\users\\xps\\anaconda3\\lib\\site-packages (from ipython>=7.23.1->ipykernel->jupyter->datasist) (2.11.2)\n",
      "Requirement already satisfied: decorator in c:\\users\\xps\\anaconda3\\lib\\site-packages (from ipython>=7.23.1->ipykernel->jupyter->datasist) (5.1.1)\n",
      "Requirement already satisfied: pickleshare in c:\\users\\xps\\anaconda3\\lib\\site-packages (from ipython>=7.23.1->ipykernel->jupyter->datasist) (0.7.5)\n",
      "Requirement already satisfied: jedi>=0.16 in c:\\users\\xps\\anaconda3\\lib\\site-packages (from ipython>=7.23.1->ipykernel->jupyter->datasist) (0.18.1)\n",
      "Requirement already satisfied: prompt-toolkit!=3.0.0,!=3.0.1,<3.1.0,>=2.0.0 in c:\\users\\xps\\anaconda3\\lib\\site-packages (from ipython>=7.23.1->ipykernel->jupyter->datasist) (3.0.20)\n",
      "Requirement already satisfied: setuptools>=18.5 in c:\\users\\xps\\anaconda3\\lib\\site-packages (from ipython>=7.23.1->ipykernel->jupyter->datasist) (61.2.0)\n",
      "Requirement already satisfied: stack-data in c:\\users\\xps\\anaconda3\\lib\\site-packages (from ipython>=7.23.1->ipykernel->jupyter->datasist) (0.2.0)\n",
      "Requirement already satisfied: backcall in c:\\users\\xps\\anaconda3\\lib\\site-packages (from ipython>=7.23.1->ipykernel->jupyter->datasist) (0.2.0)\n",
      "Requirement already satisfied: colorama in c:\\users\\xps\\anaconda3\\lib\\site-packages (from ipython>=7.23.1->ipykernel->jupyter->datasist) (0.4.4)\n",
      "Requirement already satisfied: parso<0.9.0,>=0.8.0 in c:\\users\\xps\\anaconda3\\lib\\site-packages (from jedi>=0.16->ipython>=7.23.1->ipykernel->jupyter->datasist) (0.8.3)\n",
      "Requirement already satisfied: python-dateutil>=2.1 in c:\\users\\xps\\anaconda3\\lib\\site-packages (from jupyter-client<8.0->ipykernel->jupyter->datasist) (2.8.2)\n",
      "Requirement already satisfied: jupyter-core>=4.6.0 in c:\\users\\xps\\anaconda3\\lib\\site-packages (from jupyter-client<8.0->ipykernel->jupyter->datasist) (4.9.2)\n",
      "Requirement already satisfied: pyzmq>=13 in c:\\users\\xps\\anaconda3\\lib\\site-packages (from jupyter-client<8.0->ipykernel->jupyter->datasist) (22.3.0)\n",
      "Requirement already satisfied: pywin32>=1.0 in c:\\users\\xps\\anaconda3\\lib\\site-packages (from jupyter-core>=4.6.0->jupyter-client<8.0->ipykernel->jupyter->datasist) (302)\n",
      "Requirement already satisfied: wcwidth in c:\\users\\xps\\anaconda3\\lib\\site-packages (from prompt-toolkit!=3.0.0,!=3.0.1,<3.1.0,>=2.0.0->ipython>=7.23.1->ipykernel->jupyter->datasist) (0.2.5)\n",
      "Requirement already satisfied: six>=1.5 in c:\\users\\xps\\anaconda3\\lib\\site-packages (from python-dateutil>=2.1->jupyter-client<8.0->ipykernel->jupyter->datasist) (1.16.0)\n",
      "Requirement already satisfied: widgetsnbextension~=3.5.0 in c:\\users\\xps\\anaconda3\\lib\\site-packages (from ipywidgets->jupyter->datasist) (3.5.2)\n",
      "Requirement already satisfied: jupyterlab-widgets>=1.0.0 in c:\\users\\xps\\anaconda3\\lib\\site-packages (from ipywidgets->jupyter->datasist) (1.0.0)\n",
      "Requirement already satisfied: nbformat>=4.2.0 in c:\\users\\xps\\anaconda3\\lib\\site-packages (from ipywidgets->jupyter->datasist) (5.3.0)\n",
      "Requirement already satisfied: ipython-genutils~=0.2.0 in c:\\users\\xps\\anaconda3\\lib\\site-packages (from ipywidgets->jupyter->datasist) (0.2.0)\n",
      "Requirement already satisfied: fastjsonschema in c:\\users\\xps\\anaconda3\\lib\\site-packages (from nbformat>=4.2.0->ipywidgets->jupyter->datasist) (2.15.1)\n",
      "Requirement already satisfied: jsonschema>=2.6 in c:\\users\\xps\\anaconda3\\lib\\site-packages (from nbformat>=4.2.0->ipywidgets->jupyter->datasist) (4.4.0)\n",
      "Requirement already satisfied: pyrsistent!=0.17.0,!=0.17.1,!=0.17.2,>=0.14.0 in c:\\users\\xps\\anaconda3\\lib\\site-packages (from jsonschema>=2.6->nbformat>=4.2.0->ipywidgets->jupyter->datasist) (0.18.0)\n",
      "Requirement already satisfied: attrs>=17.4.0 in c:\\users\\xps\\anaconda3\\lib\\site-packages (from jsonschema>=2.6->nbformat>=4.2.0->ipywidgets->jupyter->datasist) (21.4.0)\n",
      "Requirement already satisfied: argon2-cffi in c:\\users\\xps\\anaconda3\\lib\\site-packages (from notebook->jupyter->datasist) (21.3.0)\n",
      "Requirement already satisfied: Send2Trash>=1.8.0 in c:\\users\\xps\\anaconda3\\lib\\site-packages (from notebook->jupyter->datasist) (1.8.0)\n",
      "Requirement already satisfied: terminado>=0.8.3 in c:\\users\\xps\\anaconda3\\lib\\site-packages (from notebook->jupyter->datasist) (0.13.1)\n",
      "Requirement already satisfied: prometheus-client in c:\\users\\xps\\anaconda3\\lib\\site-packages (from notebook->jupyter->datasist) (0.13.1)\n",
      "Requirement already satisfied: jinja2 in c:\\users\\xps\\anaconda3\\lib\\site-packages (from notebook->jupyter->datasist) (2.11.3)\n",
      "Requirement already satisfied: pywinpty>=1.1.0 in c:\\users\\xps\\anaconda3\\lib\\site-packages (from terminado>=0.8.3->notebook->jupyter->datasist) (2.0.2)\n",
      "Requirement already satisfied: argon2-cffi-bindings in c:\\users\\xps\\anaconda3\\lib\\site-packages (from argon2-cffi->notebook->jupyter->datasist) (21.2.0)\n",
      "Requirement already satisfied: cffi>=1.0.1 in c:\\users\\xps\\anaconda3\\lib\\site-packages (from argon2-cffi-bindings->argon2-cffi->notebook->jupyter->datasist) (1.15.0)\n",
      "Requirement already satisfied: pycparser in c:\\users\\xps\\anaconda3\\lib\\site-packages (from cffi>=1.0.1->argon2-cffi-bindings->argon2-cffi->notebook->jupyter->datasist) (2.21)\n",
      "Requirement already satisfied: MarkupSafe>=0.23 in c:\\users\\xps\\anaconda3\\lib\\site-packages (from jinja2->notebook->jupyter->datasist) (2.0.1)\n",
      "Requirement already satisfied: kiwisolver>=1.0.1 in c:\\users\\xps\\anaconda3\\lib\\site-packages (from matplotlib->datasist) (1.3.2)\n",
      "Requirement already satisfied: packaging>=20.0 in c:\\users\\xps\\anaconda3\\lib\\site-packages (from matplotlib->datasist) (21.3)\n",
      "Requirement already satisfied: fonttools>=4.22.0 in c:\\users\\xps\\anaconda3\\lib\\site-packages (from matplotlib->datasist) (4.25.0)\n",
      "Requirement already satisfied: cycler>=0.10 in c:\\users\\xps\\anaconda3\\lib\\site-packages (from matplotlib->datasist) (0.11.0)\n",
      "Requirement already satisfied: pyparsing>=2.2.1 in c:\\users\\xps\\anaconda3\\lib\\site-packages (from matplotlib->datasist) (3.0.4)\n",
      "Requirement already satisfied: pillow>=6.2.0 in c:\\users\\xps\\anaconda3\\lib\\site-packages (from matplotlib->datasist) (9.0.1)\n",
      "Requirement already satisfied: bleach in c:\\users\\xps\\anaconda3\\lib\\site-packages (from nbconvert->jupyter->datasist) (4.1.0)\n",
      "Requirement already satisfied: testpath in c:\\users\\xps\\anaconda3\\lib\\site-packages (from nbconvert->jupyter->datasist) (0.5.0)\n",
      "Requirement already satisfied: defusedxml in c:\\users\\xps\\anaconda3\\lib\\site-packages (from nbconvert->jupyter->datasist) (0.7.1)\n",
      "Requirement already satisfied: jupyterlab-pygments in c:\\users\\xps\\anaconda3\\lib\\site-packages (from nbconvert->jupyter->datasist) (0.1.2)\n",
      "Requirement already satisfied: entrypoints>=0.2.2 in c:\\users\\xps\\anaconda3\\lib\\site-packages (from nbconvert->jupyter->datasist) (0.4)\n",
      "Requirement already satisfied: nbclient<0.6.0,>=0.5.0 in c:\\users\\xps\\anaconda3\\lib\\site-packages (from nbconvert->jupyter->datasist) (0.5.13)\n",
      "Requirement already satisfied: mistune<2,>=0.8.1 in c:\\users\\xps\\anaconda3\\lib\\site-packages (from nbconvert->jupyter->datasist) (0.8.4)\n",
      "Requirement already satisfied: pandocfilters>=1.4.1 in c:\\users\\xps\\anaconda3\\lib\\site-packages (from nbconvert->jupyter->datasist) (1.5.0)\n",
      "Requirement already satisfied: beautifulsoup4 in c:\\users\\xps\\anaconda3\\lib\\site-packages (from nbconvert->jupyter->datasist) (4.11.1)\n",
      "Requirement already satisfied: soupsieve>1.2 in c:\\users\\xps\\anaconda3\\lib\\site-packages (from beautifulsoup4->nbconvert->jupyter->datasist) (2.3.1)\n",
      "Requirement already satisfied: webencodings in c:\\users\\xps\\anaconda3\\lib\\site-packages (from bleach->nbconvert->jupyter->datasist) (0.5.1)\n",
      "Requirement already satisfied: tqdm in c:\\users\\xps\\anaconda3\\lib\\site-packages (from nltk->datasist) (4.64.0)\n",
      "Requirement already satisfied: regex>=2021.8.3 in c:\\users\\xps\\anaconda3\\lib\\site-packages (from nltk->datasist) (2022.3.15)\n",
      "Requirement already satisfied: click in c:\\users\\xps\\anaconda3\\lib\\site-packages (from nltk->datasist) (8.0.4)\n",
      "Requirement already satisfied: pytz>=2020.1 in c:\\users\\xps\\anaconda3\\lib\\site-packages (from pandas->datasist) (2021.3)\n",
      "Requirement already satisfied: qtpy>=2.0.1 in c:\\users\\xps\\anaconda3\\lib\\site-packages (from qtconsole->jupyter->datasist) (2.0.1)\n",
      "Requirement already satisfied: threadpoolctl>=2.0.0 in c:\\users\\xps\\anaconda3\\lib\\site-packages (from scikit-learn->datasist) (2.2.0)\n",
      "Requirement already satisfied: scipy>=1.3.2 in c:\\users\\xps\\anaconda3\\lib\\site-packages (from scikit-learn->datasist) (1.7.3)\n",
      "Requirement already satisfied: executing in c:\\users\\xps\\anaconda3\\lib\\site-packages (from stack-data->ipython>=7.23.1->ipykernel->jupyter->datasist) (0.8.3)\n",
      "Requirement already satisfied: pure-eval in c:\\users\\xps\\anaconda3\\lib\\site-packages (from stack-data->ipython>=7.23.1->ipykernel->jupyter->datasist) (0.2.2)\n",
      "Requirement already satisfied: asttokens in c:\\users\\xps\\anaconda3\\lib\\site-packages (from stack-data->ipython>=7.23.1->ipykernel->jupyter->datasist) (2.0.5)\n"
     ]
    },
    {
     "name": "stdout",
     "output_type": "stream",
     "text": [
      "Requirement already satisfied: imblearn in c:\\users\\xps\\anaconda3\\lib\\site-packages (0.0)\n",
      "Requirement already satisfied: imbalanced-learn in c:\\users\\xps\\anaconda3\\lib\\site-packages (from imblearn) (0.9.1)\n",
      "Requirement already satisfied: scipy>=1.3.2 in c:\\users\\xps\\anaconda3\\lib\\site-packages (from imbalanced-learn->imblearn) (1.7.3)\n",
      "Requirement already satisfied: joblib>=1.0.0 in c:\\users\\xps\\anaconda3\\lib\\site-packages (from imbalanced-learn->imblearn) (1.1.0)\n",
      "Requirement already satisfied: scikit-learn>=1.1.0 in c:\\users\\xps\\anaconda3\\lib\\site-packages (from imbalanced-learn->imblearn) (1.1.3)\n",
      "Requirement already satisfied: threadpoolctl>=2.0.0 in c:\\users\\xps\\anaconda3\\lib\\site-packages (from imbalanced-learn->imblearn) (2.2.0)\n",
      "Requirement already satisfied: numpy>=1.17.3 in c:\\users\\xps\\anaconda3\\lib\\site-packages (from imbalanced-learn->imblearn) (1.21.5)\n"
     ]
    }
   ],
   "source": [
    "!pip install datasist\n",
    "!pip install imblearn"
   ]
  },
  {
   "cell_type": "code",
   "execution_count": 2,
   "id": "cb00bed5",
   "metadata": {},
   "outputs": [],
   "source": [
    "import pandas as pd\n",
    "import seaborn as sns\n",
    "import matplotlib.pyplot as plt\n",
    "from imblearn.over_sampling import SMOTE\n",
    "from sklearn.metrics import confusion_matrix,classification_report,accuracy_score"
   ]
  },
  {
   "cell_type": "code",
   "execution_count": 3,
   "id": "de1f350d",
   "metadata": {},
   "outputs": [],
   "source": [
    "df=pd.read_csv('train (2).csv')"
   ]
  },
  {
   "cell_type": "markdown",
   "id": "bdb2989a",
   "metadata": {},
   "source": [
    "# 1-gathering the data"
   ]
  },
  {
   "cell_type": "code",
   "execution_count": 3,
   "id": "b18867bb",
   "metadata": {},
   "outputs": [
    {
     "data": {
      "text/html": [
       "<div>\n",
       "<style scoped>\n",
       "    .dataframe tbody tr th:only-of-type {\n",
       "        vertical-align: middle;\n",
       "    }\n",
       "\n",
       "    .dataframe tbody tr th {\n",
       "        vertical-align: top;\n",
       "    }\n",
       "\n",
       "    .dataframe thead th {\n",
       "        text-align: right;\n",
       "    }\n",
       "</style>\n",
       "<table border=\"1\" class=\"dataframe\">\n",
       "  <thead>\n",
       "    <tr style=\"text-align: right;\">\n",
       "      <th></th>\n",
       "      <th>ID</th>\n",
       "      <th>Gender</th>\n",
       "      <th>DOB</th>\n",
       "      <th>Lead_Creation_Date</th>\n",
       "      <th>City_Code</th>\n",
       "      <th>City_Category</th>\n",
       "      <th>Employer_Code</th>\n",
       "      <th>Employer_Category1</th>\n",
       "      <th>Employer_Category2</th>\n",
       "      <th>Monthly_Income</th>\n",
       "      <th>...</th>\n",
       "      <th>Contacted</th>\n",
       "      <th>Source</th>\n",
       "      <th>Source_Category</th>\n",
       "      <th>Existing_EMI</th>\n",
       "      <th>Loan_Amount</th>\n",
       "      <th>Loan_Period</th>\n",
       "      <th>Interest_Rate</th>\n",
       "      <th>EMI</th>\n",
       "      <th>Var1</th>\n",
       "      <th>Approved</th>\n",
       "    </tr>\n",
       "  </thead>\n",
       "  <tbody>\n",
       "    <tr>\n",
       "      <th>0</th>\n",
       "      <td>APPC90493171225</td>\n",
       "      <td>Female</td>\n",
       "      <td>23/07/79</td>\n",
       "      <td>15/07/16</td>\n",
       "      <td>C10001</td>\n",
       "      <td>A</td>\n",
       "      <td>COM0044082</td>\n",
       "      <td>A</td>\n",
       "      <td>4.0</td>\n",
       "      <td>2000.0</td>\n",
       "      <td>...</td>\n",
       "      <td>N</td>\n",
       "      <td>S122</td>\n",
       "      <td>G</td>\n",
       "      <td>0.0</td>\n",
       "      <td>NaN</td>\n",
       "      <td>NaN</td>\n",
       "      <td>NaN</td>\n",
       "      <td>NaN</td>\n",
       "      <td>0</td>\n",
       "      <td>0</td>\n",
       "    </tr>\n",
       "    <tr>\n",
       "      <th>1</th>\n",
       "      <td>APPD40611263344</td>\n",
       "      <td>Male</td>\n",
       "      <td>07/12/86</td>\n",
       "      <td>04/07/16</td>\n",
       "      <td>C10003</td>\n",
       "      <td>A</td>\n",
       "      <td>COM0000002</td>\n",
       "      <td>C</td>\n",
       "      <td>1.0</td>\n",
       "      <td>3500.0</td>\n",
       "      <td>...</td>\n",
       "      <td>Y</td>\n",
       "      <td>S122</td>\n",
       "      <td>G</td>\n",
       "      <td>0.0</td>\n",
       "      <td>20000.0</td>\n",
       "      <td>2.0</td>\n",
       "      <td>13.25</td>\n",
       "      <td>953.0</td>\n",
       "      <td>10</td>\n",
       "      <td>0</td>\n",
       "    </tr>\n",
       "    <tr>\n",
       "      <th>2</th>\n",
       "      <td>APPE70289249423</td>\n",
       "      <td>Male</td>\n",
       "      <td>10/12/82</td>\n",
       "      <td>19/07/16</td>\n",
       "      <td>C10125</td>\n",
       "      <td>C</td>\n",
       "      <td>COM0005267</td>\n",
       "      <td>C</td>\n",
       "      <td>4.0</td>\n",
       "      <td>2250.0</td>\n",
       "      <td>...</td>\n",
       "      <td>Y</td>\n",
       "      <td>S143</td>\n",
       "      <td>B</td>\n",
       "      <td>0.0</td>\n",
       "      <td>45000.0</td>\n",
       "      <td>4.0</td>\n",
       "      <td>NaN</td>\n",
       "      <td>NaN</td>\n",
       "      <td>0</td>\n",
       "      <td>0</td>\n",
       "    </tr>\n",
       "    <tr>\n",
       "      <th>3</th>\n",
       "      <td>APPF80273865537</td>\n",
       "      <td>Male</td>\n",
       "      <td>30/01/89</td>\n",
       "      <td>09/07/16</td>\n",
       "      <td>C10477</td>\n",
       "      <td>C</td>\n",
       "      <td>COM0004143</td>\n",
       "      <td>A</td>\n",
       "      <td>4.0</td>\n",
       "      <td>3500.0</td>\n",
       "      <td>...</td>\n",
       "      <td>Y</td>\n",
       "      <td>S143</td>\n",
       "      <td>B</td>\n",
       "      <td>0.0</td>\n",
       "      <td>92000.0</td>\n",
       "      <td>5.0</td>\n",
       "      <td>NaN</td>\n",
       "      <td>NaN</td>\n",
       "      <td>7</td>\n",
       "      <td>0</td>\n",
       "    </tr>\n",
       "    <tr>\n",
       "      <th>4</th>\n",
       "      <td>APPG60994436641</td>\n",
       "      <td>Male</td>\n",
       "      <td>19/04/85</td>\n",
       "      <td>20/07/16</td>\n",
       "      <td>C10002</td>\n",
       "      <td>A</td>\n",
       "      <td>COM0001781</td>\n",
       "      <td>A</td>\n",
       "      <td>4.0</td>\n",
       "      <td>10000.0</td>\n",
       "      <td>...</td>\n",
       "      <td>Y</td>\n",
       "      <td>S134</td>\n",
       "      <td>B</td>\n",
       "      <td>2500.0</td>\n",
       "      <td>50000.0</td>\n",
       "      <td>2.0</td>\n",
       "      <td>NaN</td>\n",
       "      <td>NaN</td>\n",
       "      <td>10</td>\n",
       "      <td>0</td>\n",
       "    </tr>\n",
       "  </tbody>\n",
       "</table>\n",
       "<p>5 rows × 22 columns</p>\n",
       "</div>"
      ],
      "text/plain": [
       "                ID  Gender       DOB Lead_Creation_Date City_Code  \\\n",
       "0  APPC90493171225  Female  23/07/79           15/07/16    C10001   \n",
       "1  APPD40611263344    Male  07/12/86           04/07/16    C10003   \n",
       "2  APPE70289249423    Male  10/12/82           19/07/16    C10125   \n",
       "3  APPF80273865537    Male  30/01/89           09/07/16    C10477   \n",
       "4  APPG60994436641    Male  19/04/85           20/07/16    C10002   \n",
       "\n",
       "  City_Category Employer_Code Employer_Category1  Employer_Category2  \\\n",
       "0             A    COM0044082                  A                 4.0   \n",
       "1             A    COM0000002                  C                 1.0   \n",
       "2             C    COM0005267                  C                 4.0   \n",
       "3             C    COM0004143                  A                 4.0   \n",
       "4             A    COM0001781                  A                 4.0   \n",
       "\n",
       "   Monthly_Income  ... Contacted Source Source_Category Existing_EMI  \\\n",
       "0          2000.0  ...         N   S122               G          0.0   \n",
       "1          3500.0  ...         Y   S122               G          0.0   \n",
       "2          2250.0  ...         Y   S143               B          0.0   \n",
       "3          3500.0  ...         Y   S143               B          0.0   \n",
       "4         10000.0  ...         Y   S134               B       2500.0   \n",
       "\n",
       "  Loan_Amount  Loan_Period  Interest_Rate    EMI  Var1  Approved  \n",
       "0         NaN          NaN            NaN    NaN     0         0  \n",
       "1     20000.0          2.0          13.25  953.0    10         0  \n",
       "2     45000.0          4.0            NaN    NaN     0         0  \n",
       "3     92000.0          5.0            NaN    NaN     7         0  \n",
       "4     50000.0          2.0            NaN    NaN    10         0  \n",
       "\n",
       "[5 rows x 22 columns]"
      ]
     },
     "execution_count": 3,
     "metadata": {},
     "output_type": "execute_result"
    }
   ],
   "source": [
    "df.head()"
   ]
  },
  {
   "cell_type": "code",
   "execution_count": 4,
   "id": "c8bf74df",
   "metadata": {
    "scrolled": true
   },
   "outputs": [
    {
     "data": {
      "text/plain": [
       "ID                                     69713\n",
       "Gender                                     2\n",
       "DOB                                    10759\n",
       "Lead_Creation_Date                        92\n",
       "City_Code                                678\n",
       "City_Category                              3\n",
       "Employer_Code                          36617\n",
       "Employer_Category1                         3\n",
       "Employer_Category2                         4\n",
       "Monthly_Income                          5010\n",
       "Customer_Existing_Primary_Bank_Code       57\n",
       "Primary_Bank_Type                          2\n",
       "Contacted                                  2\n",
       "Source                                    29\n",
       "Source_Category                            7\n",
       "Existing_EMI                            3245\n",
       "Loan_Amount                              196\n",
       "Loan_Period                                6\n",
       "Interest_Rate                             72\n",
       "EMI                                     2179\n",
       "Var1                                       5\n",
       "Approved                                   2\n",
       "dtype: int64"
      ]
     },
     "execution_count": 4,
     "metadata": {},
     "output_type": "execute_result"
    }
   ],
   "source": [
    "df.isnull().sum()\n",
    "df.nunique()"
   ]
  },
  {
   "cell_type": "code",
   "execution_count": 3,
   "id": "ff496155",
   "metadata": {},
   "outputs": [],
   "source": [
    "\n",
    "\n"
   ]
  },
  {
   "cell_type": "code",
   "execution_count": 6,
   "id": "3801ee9f",
   "metadata": {},
   "outputs": [
    {
     "name": "stdout",
     "output_type": "stream",
     "text": [
      "<class 'pandas.core.frame.DataFrame'>\n",
      "RangeIndex: 69713 entries, 0 to 69712\n",
      "Data columns (total 16 columns):\n",
      " #   Column                               Non-Null Count  Dtype  \n",
      "---  ------                               --------------  -----  \n",
      " 0   ID                                   69713 non-null  object \n",
      " 1   Gender                               69713 non-null  object \n",
      " 2   City_Code                            68899 non-null  object \n",
      " 3   City_Category                        68899 non-null  object \n",
      " 4   Employer_Category1                   65695 non-null  object \n",
      " 5   Employer_Category2                   65415 non-null  float64\n",
      " 6   Customer_Existing_Primary_Bank_Code  60322 non-null  object \n",
      " 7   Primary_Bank_Type                    60322 non-null  object \n",
      " 8   Contacted                            69713 non-null  object \n",
      " 9   Source                               69713 non-null  object \n",
      " 10  Source_Category                      69713 non-null  object \n",
      " 11  Loan_Amount                          42004 non-null  float64\n",
      " 12  Loan_Period                          42004 non-null  float64\n",
      " 13  Interest_Rate                        22276 non-null  float64\n",
      " 14  Var1                                 69713 non-null  int64  \n",
      " 15  Approved                             69713 non-null  int64  \n",
      "dtypes: float64(4), int64(2), object(10)\n",
      "memory usage: 8.5+ MB\n"
     ]
    }
   ],
   "source": [
    "df.info()"
   ]
  },
  {
   "cell_type": "markdown",
   "id": "0ba129b9",
   "metadata": {},
   "source": [
    "# 2-cleaning of data"
   ]
  },
  {
   "cell_type": "code",
   "execution_count": 4,
   "id": "7204bd52",
   "metadata": {},
   "outputs": [],
   "source": [
    "del df['ID'],df['DOB'],df['Lead_Creation_Date'],df['Employer_Code'],df['Monthly_Income'],df['Existing_EMI'],df['EMI']\n"
   ]
  },
  {
   "cell_type": "code",
   "execution_count": 8,
   "id": "5bcd997a",
   "metadata": {},
   "outputs": [
    {
     "name": "stdout",
     "output_type": "stream",
     "text": [
      "<class 'pandas.core.frame.DataFrame'>\n",
      "RangeIndex: 69713 entries, 0 to 69712\n",
      "Data columns (total 15 columns):\n",
      " #   Column                               Non-Null Count  Dtype  \n",
      "---  ------                               --------------  -----  \n",
      " 0   Gender                               69713 non-null  object \n",
      " 1   City_Code                            68899 non-null  object \n",
      " 2   City_Category                        68899 non-null  object \n",
      " 3   Employer_Category1                   65695 non-null  object \n",
      " 4   Employer_Category2                   65415 non-null  float64\n",
      " 5   Customer_Existing_Primary_Bank_Code  60322 non-null  object \n",
      " 6   Primary_Bank_Type                    60322 non-null  object \n",
      " 7   Contacted                            69713 non-null  object \n",
      " 8   Source                               69713 non-null  object \n",
      " 9   Source_Category                      69713 non-null  object \n",
      " 10  Loan_Amount                          42004 non-null  float64\n",
      " 11  Loan_Period                          42004 non-null  float64\n",
      " 12  Interest_Rate                        22276 non-null  float64\n",
      " 13  Var1                                 69713 non-null  int64  \n",
      " 14  Approved                             69713 non-null  int64  \n",
      "dtypes: float64(4), int64(2), object(9)\n",
      "memory usage: 8.0+ MB\n"
     ]
    }
   ],
   "source": [
    "df.info()"
   ]
  },
  {
   "cell_type": "markdown",
   "id": "188eb558",
   "metadata": {},
   "source": [
    "## 2-1 remove duplicates"
   ]
  },
  {
   "cell_type": "code",
   "execution_count": 8,
   "id": "02531788",
   "metadata": {},
   "outputs": [
    {
     "data": {
      "text/html": [
       "<div>\n",
       "<style scoped>\n",
       "    .dataframe tbody tr th:only-of-type {\n",
       "        vertical-align: middle;\n",
       "    }\n",
       "\n",
       "    .dataframe tbody tr th {\n",
       "        vertical-align: top;\n",
       "    }\n",
       "\n",
       "    .dataframe thead th {\n",
       "        text-align: right;\n",
       "    }\n",
       "</style>\n",
       "<table border=\"1\" class=\"dataframe\">\n",
       "  <thead>\n",
       "    <tr style=\"text-align: right;\">\n",
       "      <th></th>\n",
       "      <th>Gender</th>\n",
       "      <th>City_Code</th>\n",
       "      <th>City_Category</th>\n",
       "      <th>Employer_Category1</th>\n",
       "      <th>Employer_Category2</th>\n",
       "      <th>Customer_Existing_Primary_Bank_Code</th>\n",
       "      <th>Primary_Bank_Type</th>\n",
       "      <th>Contacted</th>\n",
       "      <th>Source</th>\n",
       "      <th>Source_Category</th>\n",
       "      <th>Loan_Amount</th>\n",
       "      <th>Loan_Period</th>\n",
       "      <th>Interest_Rate</th>\n",
       "      <th>Var1</th>\n",
       "      <th>Approved</th>\n",
       "    </tr>\n",
       "  </thead>\n",
       "  <tbody>\n",
       "    <tr>\n",
       "      <th>0</th>\n",
       "      <td>Female</td>\n",
       "      <td>C10001</td>\n",
       "      <td>A</td>\n",
       "      <td>A</td>\n",
       "      <td>4.0</td>\n",
       "      <td>B001</td>\n",
       "      <td>P</td>\n",
       "      <td>N</td>\n",
       "      <td>S122</td>\n",
       "      <td>G</td>\n",
       "      <td>NaN</td>\n",
       "      <td>NaN</td>\n",
       "      <td>NaN</td>\n",
       "      <td>0</td>\n",
       "      <td>0</td>\n",
       "    </tr>\n",
       "    <tr>\n",
       "      <th>1</th>\n",
       "      <td>Male</td>\n",
       "      <td>C10003</td>\n",
       "      <td>A</td>\n",
       "      <td>C</td>\n",
       "      <td>1.0</td>\n",
       "      <td>B002</td>\n",
       "      <td>P</td>\n",
       "      <td>Y</td>\n",
       "      <td>S122</td>\n",
       "      <td>G</td>\n",
       "      <td>20000.0</td>\n",
       "      <td>2.0</td>\n",
       "      <td>13.25</td>\n",
       "      <td>10</td>\n",
       "      <td>0</td>\n",
       "    </tr>\n",
       "    <tr>\n",
       "      <th>2</th>\n",
       "      <td>Male</td>\n",
       "      <td>C10125</td>\n",
       "      <td>C</td>\n",
       "      <td>C</td>\n",
       "      <td>4.0</td>\n",
       "      <td>B003</td>\n",
       "      <td>G</td>\n",
       "      <td>Y</td>\n",
       "      <td>S143</td>\n",
       "      <td>B</td>\n",
       "      <td>45000.0</td>\n",
       "      <td>4.0</td>\n",
       "      <td>NaN</td>\n",
       "      <td>0</td>\n",
       "      <td>0</td>\n",
       "    </tr>\n",
       "    <tr>\n",
       "      <th>3</th>\n",
       "      <td>Male</td>\n",
       "      <td>C10477</td>\n",
       "      <td>C</td>\n",
       "      <td>A</td>\n",
       "      <td>4.0</td>\n",
       "      <td>B003</td>\n",
       "      <td>G</td>\n",
       "      <td>Y</td>\n",
       "      <td>S143</td>\n",
       "      <td>B</td>\n",
       "      <td>92000.0</td>\n",
       "      <td>5.0</td>\n",
       "      <td>NaN</td>\n",
       "      <td>7</td>\n",
       "      <td>0</td>\n",
       "    </tr>\n",
       "    <tr>\n",
       "      <th>4</th>\n",
       "      <td>Male</td>\n",
       "      <td>C10002</td>\n",
       "      <td>A</td>\n",
       "      <td>A</td>\n",
       "      <td>4.0</td>\n",
       "      <td>B001</td>\n",
       "      <td>P</td>\n",
       "      <td>Y</td>\n",
       "      <td>S134</td>\n",
       "      <td>B</td>\n",
       "      <td>50000.0</td>\n",
       "      <td>2.0</td>\n",
       "      <td>NaN</td>\n",
       "      <td>10</td>\n",
       "      <td>0</td>\n",
       "    </tr>\n",
       "    <tr>\n",
       "      <th>...</th>\n",
       "      <td>...</td>\n",
       "      <td>...</td>\n",
       "      <td>...</td>\n",
       "      <td>...</td>\n",
       "      <td>...</td>\n",
       "      <td>...</td>\n",
       "      <td>...</td>\n",
       "      <td>...</td>\n",
       "      <td>...</td>\n",
       "      <td>...</td>\n",
       "      <td>...</td>\n",
       "      <td>...</td>\n",
       "      <td>...</td>\n",
       "      <td>...</td>\n",
       "      <td>...</td>\n",
       "    </tr>\n",
       "    <tr>\n",
       "      <th>69708</th>\n",
       "      <td>Female</td>\n",
       "      <td>C10006</td>\n",
       "      <td>A</td>\n",
       "      <td>A</td>\n",
       "      <td>1.0</td>\n",
       "      <td>B002</td>\n",
       "      <td>P</td>\n",
       "      <td>N</td>\n",
       "      <td>S122</td>\n",
       "      <td>G</td>\n",
       "      <td>NaN</td>\n",
       "      <td>NaN</td>\n",
       "      <td>NaN</td>\n",
       "      <td>10</td>\n",
       "      <td>0</td>\n",
       "    </tr>\n",
       "    <tr>\n",
       "      <th>69709</th>\n",
       "      <td>Female</td>\n",
       "      <td>C10116</td>\n",
       "      <td>C</td>\n",
       "      <td>A</td>\n",
       "      <td>4.0</td>\n",
       "      <td>B002</td>\n",
       "      <td>P</td>\n",
       "      <td>N</td>\n",
       "      <td>S122</td>\n",
       "      <td>G</td>\n",
       "      <td>NaN</td>\n",
       "      <td>NaN</td>\n",
       "      <td>NaN</td>\n",
       "      <td>7</td>\n",
       "      <td>0</td>\n",
       "    </tr>\n",
       "    <tr>\n",
       "      <th>69710</th>\n",
       "      <td>Female</td>\n",
       "      <td>C10022</td>\n",
       "      <td>B</td>\n",
       "      <td>C</td>\n",
       "      <td>4.0</td>\n",
       "      <td>B030</td>\n",
       "      <td>P</td>\n",
       "      <td>Y</td>\n",
       "      <td>S122</td>\n",
       "      <td>G</td>\n",
       "      <td>24000.0</td>\n",
       "      <td>4.0</td>\n",
       "      <td>35.50</td>\n",
       "      <td>2</td>\n",
       "      <td>0</td>\n",
       "    </tr>\n",
       "    <tr>\n",
       "      <th>69711</th>\n",
       "      <td>Male</td>\n",
       "      <td>C10002</td>\n",
       "      <td>A</td>\n",
       "      <td>C</td>\n",
       "      <td>3.0</td>\n",
       "      <td>B002</td>\n",
       "      <td>P</td>\n",
       "      <td>Y</td>\n",
       "      <td>S122</td>\n",
       "      <td>G</td>\n",
       "      <td>80000.0</td>\n",
       "      <td>5.0</td>\n",
       "      <td>NaN</td>\n",
       "      <td>10</td>\n",
       "      <td>0</td>\n",
       "    </tr>\n",
       "    <tr>\n",
       "      <th>69712</th>\n",
       "      <td>Male</td>\n",
       "      <td>C10003</td>\n",
       "      <td>A</td>\n",
       "      <td>A</td>\n",
       "      <td>1.0</td>\n",
       "      <td>NaN</td>\n",
       "      <td>NaN</td>\n",
       "      <td>Y</td>\n",
       "      <td>S122</td>\n",
       "      <td>G</td>\n",
       "      <td>69000.0</td>\n",
       "      <td>4.0</td>\n",
       "      <td>13.99</td>\n",
       "      <td>10</td>\n",
       "      <td>0</td>\n",
       "    </tr>\n",
       "  </tbody>\n",
       "</table>\n",
       "<p>52538 rows × 15 columns</p>\n",
       "</div>"
      ],
      "text/plain": [
       "       Gender City_Code City_Category Employer_Category1  Employer_Category2  \\\n",
       "0      Female    C10001             A                  A                 4.0   \n",
       "1        Male    C10003             A                  C                 1.0   \n",
       "2        Male    C10125             C                  C                 4.0   \n",
       "3        Male    C10477             C                  A                 4.0   \n",
       "4        Male    C10002             A                  A                 4.0   \n",
       "...       ...       ...           ...                ...                 ...   \n",
       "69708  Female    C10006             A                  A                 1.0   \n",
       "69709  Female    C10116             C                  A                 4.0   \n",
       "69710  Female    C10022             B                  C                 4.0   \n",
       "69711    Male    C10002             A                  C                 3.0   \n",
       "69712    Male    C10003             A                  A                 1.0   \n",
       "\n",
       "      Customer_Existing_Primary_Bank_Code Primary_Bank_Type Contacted Source  \\\n",
       "0                                    B001                 P         N   S122   \n",
       "1                                    B002                 P         Y   S122   \n",
       "2                                    B003                 G         Y   S143   \n",
       "3                                    B003                 G         Y   S143   \n",
       "4                                    B001                 P         Y   S134   \n",
       "...                                   ...               ...       ...    ...   \n",
       "69708                                B002                 P         N   S122   \n",
       "69709                                B002                 P         N   S122   \n",
       "69710                                B030                 P         Y   S122   \n",
       "69711                                B002                 P         Y   S122   \n",
       "69712                                 NaN               NaN         Y   S122   \n",
       "\n",
       "      Source_Category  Loan_Amount  Loan_Period  Interest_Rate  Var1  Approved  \n",
       "0                   G          NaN          NaN            NaN     0         0  \n",
       "1                   G      20000.0          2.0          13.25    10         0  \n",
       "2                   B      45000.0          4.0            NaN     0         0  \n",
       "3                   B      92000.0          5.0            NaN     7         0  \n",
       "4                   B      50000.0          2.0            NaN    10         0  \n",
       "...               ...          ...          ...            ...   ...       ...  \n",
       "69708               G          NaN          NaN            NaN    10         0  \n",
       "69709               G          NaN          NaN            NaN     7         0  \n",
       "69710               G      24000.0          4.0          35.50     2         0  \n",
       "69711               G      80000.0          5.0            NaN    10         0  \n",
       "69712               G      69000.0          4.0          13.99    10         0  \n",
       "\n",
       "[52538 rows x 15 columns]"
      ]
     },
     "execution_count": 8,
     "metadata": {},
     "output_type": "execute_result"
    }
   ],
   "source": [
    "df.drop_duplicates()"
   ]
  },
  {
   "cell_type": "code",
   "execution_count": 9,
   "id": "40bd2858",
   "metadata": {},
   "outputs": [
    {
     "data": {
      "text/plain": [
       "17175"
      ]
     },
     "execution_count": 9,
     "metadata": {},
     "output_type": "execute_result"
    }
   ],
   "source": [
    "df.duplicated().sum()"
   ]
  },
  {
   "cell_type": "markdown",
   "id": "d5e33d09",
   "metadata": {},
   "source": [
    "## 2-check and impute nulls "
   ]
  },
  {
   "cell_type": "code",
   "execution_count": 11,
   "id": "f5e77aeb",
   "metadata": {},
   "outputs": [
    {
     "data": {
      "text/html": [
       "<div>\n",
       "<style scoped>\n",
       "    .dataframe tbody tr th:only-of-type {\n",
       "        vertical-align: middle;\n",
       "    }\n",
       "\n",
       "    .dataframe tbody tr th {\n",
       "        vertical-align: top;\n",
       "    }\n",
       "\n",
       "    .dataframe thead th {\n",
       "        text-align: right;\n",
       "    }\n",
       "</style>\n",
       "<table border=\"1\" class=\"dataframe\">\n",
       "  <thead>\n",
       "    <tr style=\"text-align: right;\">\n",
       "      <th></th>\n",
       "      <th>Employer_Category2</th>\n",
       "      <th>Loan_Amount</th>\n",
       "      <th>Loan_Period</th>\n",
       "      <th>Interest_Rate</th>\n",
       "      <th>Var1</th>\n",
       "      <th>Approved</th>\n",
       "    </tr>\n",
       "  </thead>\n",
       "  <tbody>\n",
       "    <tr>\n",
       "      <th>count</th>\n",
       "      <td>65415.000000</td>\n",
       "      <td>42004.000000</td>\n",
       "      <td>42004.000000</td>\n",
       "      <td>22276.000000</td>\n",
       "      <td>69713.000000</td>\n",
       "      <td>69713.000000</td>\n",
       "    </tr>\n",
       "    <tr>\n",
       "      <th>mean</th>\n",
       "      <td>3.720187</td>\n",
       "      <td>39429.982859</td>\n",
       "      <td>3.890629</td>\n",
       "      <td>19.213570</td>\n",
       "      <td>3.948446</td>\n",
       "      <td>0.014631</td>\n",
       "    </tr>\n",
       "    <tr>\n",
       "      <th>std</th>\n",
       "      <td>0.807374</td>\n",
       "      <td>30727.595990</td>\n",
       "      <td>1.167491</td>\n",
       "      <td>5.847136</td>\n",
       "      <td>3.819214</td>\n",
       "      <td>0.120073</td>\n",
       "    </tr>\n",
       "    <tr>\n",
       "      <th>min</th>\n",
       "      <td>1.000000</td>\n",
       "      <td>5000.000000</td>\n",
       "      <td>1.000000</td>\n",
       "      <td>11.990000</td>\n",
       "      <td>0.000000</td>\n",
       "      <td>0.000000</td>\n",
       "    </tr>\n",
       "    <tr>\n",
       "      <th>25%</th>\n",
       "      <td>4.000000</td>\n",
       "      <td>20000.000000</td>\n",
       "      <td>3.000000</td>\n",
       "      <td>15.250000</td>\n",
       "      <td>0.000000</td>\n",
       "      <td>0.000000</td>\n",
       "    </tr>\n",
       "    <tr>\n",
       "      <th>50%</th>\n",
       "      <td>4.000000</td>\n",
       "      <td>30000.000000</td>\n",
       "      <td>4.000000</td>\n",
       "      <td>18.000000</td>\n",
       "      <td>2.000000</td>\n",
       "      <td>0.000000</td>\n",
       "    </tr>\n",
       "    <tr>\n",
       "      <th>75%</th>\n",
       "      <td>4.000000</td>\n",
       "      <td>50000.000000</td>\n",
       "      <td>5.000000</td>\n",
       "      <td>20.000000</td>\n",
       "      <td>7.000000</td>\n",
       "      <td>0.000000</td>\n",
       "    </tr>\n",
       "    <tr>\n",
       "      <th>max</th>\n",
       "      <td>4.000000</td>\n",
       "      <td>300000.000000</td>\n",
       "      <td>6.000000</td>\n",
       "      <td>37.000000</td>\n",
       "      <td>10.000000</td>\n",
       "      <td>1.000000</td>\n",
       "    </tr>\n",
       "  </tbody>\n",
       "</table>\n",
       "</div>"
      ],
      "text/plain": [
       "       Employer_Category2    Loan_Amount   Loan_Period  Interest_Rate  \\\n",
       "count        65415.000000   42004.000000  42004.000000   22276.000000   \n",
       "mean             3.720187   39429.982859      3.890629      19.213570   \n",
       "std              0.807374   30727.595990      1.167491       5.847136   \n",
       "min              1.000000    5000.000000      1.000000      11.990000   \n",
       "25%              4.000000   20000.000000      3.000000      15.250000   \n",
       "50%              4.000000   30000.000000      4.000000      18.000000   \n",
       "75%              4.000000   50000.000000      5.000000      20.000000   \n",
       "max              4.000000  300000.000000      6.000000      37.000000   \n",
       "\n",
       "               Var1      Approved  \n",
       "count  69713.000000  69713.000000  \n",
       "mean       3.948446      0.014631  \n",
       "std        3.819214      0.120073  \n",
       "min        0.000000      0.000000  \n",
       "25%        0.000000      0.000000  \n",
       "50%        2.000000      0.000000  \n",
       "75%        7.000000      0.000000  \n",
       "max       10.000000      1.000000  "
      ]
     },
     "execution_count": 11,
     "metadata": {},
     "output_type": "execute_result"
    }
   ],
   "source": [
    "df.describe()"
   ]
  },
  {
   "cell_type": "code",
   "execution_count": 10,
   "id": "e24d92a5",
   "metadata": {},
   "outputs": [
    {
     "data": {
      "text/html": [
       "<div>\n",
       "<style scoped>\n",
       "    .dataframe tbody tr th:only-of-type {\n",
       "        vertical-align: middle;\n",
       "    }\n",
       "\n",
       "    .dataframe tbody tr th {\n",
       "        vertical-align: top;\n",
       "    }\n",
       "\n",
       "    .dataframe thead th {\n",
       "        text-align: right;\n",
       "    }\n",
       "</style>\n",
       "<table border=\"1\" class=\"dataframe\">\n",
       "  <thead>\n",
       "    <tr style=\"text-align: right;\">\n",
       "      <th></th>\n",
       "      <th>Gender</th>\n",
       "      <th>City_Code</th>\n",
       "      <th>City_Category</th>\n",
       "      <th>Employer_Category1</th>\n",
       "      <th>Customer_Existing_Primary_Bank_Code</th>\n",
       "      <th>Primary_Bank_Type</th>\n",
       "      <th>Contacted</th>\n",
       "      <th>Source</th>\n",
       "      <th>Source_Category</th>\n",
       "    </tr>\n",
       "  </thead>\n",
       "  <tbody>\n",
       "    <tr>\n",
       "      <th>count</th>\n",
       "      <td>69713</td>\n",
       "      <td>68899</td>\n",
       "      <td>68899</td>\n",
       "      <td>65695</td>\n",
       "      <td>60322</td>\n",
       "      <td>60322</td>\n",
       "      <td>69713</td>\n",
       "      <td>69713</td>\n",
       "      <td>69713</td>\n",
       "    </tr>\n",
       "    <tr>\n",
       "      <th>unique</th>\n",
       "      <td>2</td>\n",
       "      <td>678</td>\n",
       "      <td>3</td>\n",
       "      <td>3</td>\n",
       "      <td>57</td>\n",
       "      <td>2</td>\n",
       "      <td>2</td>\n",
       "      <td>29</td>\n",
       "      <td>7</td>\n",
       "    </tr>\n",
       "    <tr>\n",
       "      <th>top</th>\n",
       "      <td>Male</td>\n",
       "      <td>C10001</td>\n",
       "      <td>A</td>\n",
       "      <td>A</td>\n",
       "      <td>B001</td>\n",
       "      <td>P</td>\n",
       "      <td>Y</td>\n",
       "      <td>S122</td>\n",
       "      <td>B</td>\n",
       "    </tr>\n",
       "    <tr>\n",
       "      <th>freq</th>\n",
       "      <td>39949</td>\n",
       "      <td>10007</td>\n",
       "      <td>49885</td>\n",
       "      <td>33336</td>\n",
       "      <td>14197</td>\n",
       "      <td>39619</td>\n",
       "      <td>45275</td>\n",
       "      <td>30941</td>\n",
       "      <td>29812</td>\n",
       "    </tr>\n",
       "  </tbody>\n",
       "</table>\n",
       "</div>"
      ],
      "text/plain": [
       "       Gender City_Code City_Category Employer_Category1  \\\n",
       "count   69713     68899         68899              65695   \n",
       "unique      2       678             3                  3   \n",
       "top      Male    C10001             A                  A   \n",
       "freq    39949     10007         49885              33336   \n",
       "\n",
       "       Customer_Existing_Primary_Bank_Code Primary_Bank_Type Contacted Source  \\\n",
       "count                                60322             60322     69713  69713   \n",
       "unique                                  57                 2         2     29   \n",
       "top                                   B001                 P         Y   S122   \n",
       "freq                                 14197             39619     45275  30941   \n",
       "\n",
       "       Source_Category  \n",
       "count            69713  \n",
       "unique               7  \n",
       "top                  B  \n",
       "freq             29812  "
      ]
     },
     "execution_count": 10,
     "metadata": {},
     "output_type": "execute_result"
    }
   ],
   "source": [
    "df.describe(include='O')"
   ]
  },
  {
   "cell_type": "code",
   "execution_count": 11,
   "id": "a636cf51",
   "metadata": {},
   "outputs": [
    {
     "data": {
      "text/plain": [
       "4.0    57582\n",
       "1.0     4258\n",
       "2.0     1955\n",
       "3.0     1620\n",
       "Name: Employer_Category2, dtype: int64"
      ]
     },
     "execution_count": 11,
     "metadata": {},
     "output_type": "execute_result"
    }
   ],
   "source": [
    "df['Employer_Category2'].value_counts()"
   ]
  },
  {
   "cell_type": "code",
   "execution_count": 5,
   "id": "e25071fc",
   "metadata": {},
   "outputs": [],
   "source": [
    "\n",
    "\n",
    "\n",
    "df['City_Code'].fillna('C10001',inplace=True)\n",
    "df['City_Category'].fillna('A',inplace=True)\n",
    "df['Employer_Category1'].fillna('A',inplace=True)\n",
    "df['Employer_Category2'].fillna(3.720187,inplace=True)\n",
    "df['Customer_Existing_Primary_Bank_Code'].fillna('B001',inplace=True)\n",
    "df['Primary_Bank_Type'].fillna('P',inplace=True)\n",
    "\n",
    "# here we put mean of loan amount\n",
    "df['Loan_Amount'].fillna(39429.982859,inplace=True)\n",
    "df['Loan_Period'].fillna(3.890629,inplace=True)\n",
    "df['Interest_Rate'].fillna(19.213570,inplace=True)\n",
    "\n",
    "\n"
   ]
  },
  {
   "cell_type": "code",
   "execution_count": 44,
   "id": "66f6e155",
   "metadata": {},
   "outputs": [
    {
     "data": {
      "text/plain": [
       "Gender                                 0\n",
       "DOB                                    0\n",
       "Lead_Creation_Date                     0\n",
       "City_Code                              0\n",
       "City_Category                          0\n",
       "Employer_Code                          0\n",
       "Employer_Category1                     0\n",
       "Employer_Category2                     0\n",
       "Monthly_Income                         0\n",
       "Customer_Existing_Primary_Bank_Code    0\n",
       "Primary_Bank_Type                      0\n",
       "Contacted                              0\n",
       "Source                                 0\n",
       "Source_Category                        0\n",
       "Existing_EMI                           0\n",
       "Loan_Amount                            0\n",
       "Loan_Period                            0\n",
       "Interest_Rate                          0\n",
       "EMI                                    0\n",
       "Var1                                   0\n",
       "Approved                               0\n",
       "dtype: int64"
      ]
     },
     "execution_count": 44,
     "metadata": {},
     "output_type": "execute_result"
    }
   ],
   "source": [
    "# make sure that the data is clean\n",
    "df.isnull().sum()"
   ]
  },
  {
   "cell_type": "markdown",
   "id": "73eb4f67",
   "metadata": {},
   "source": [
    "# replace data types\n",
    "## set each column in suitable data type"
   ]
  },
  {
   "cell_type": "code",
   "execution_count": 48,
   "id": "30490154",
   "metadata": {},
   "outputs": [],
   "source": [
    "#df['Employer_Category2']=df['Employer_Category2'].astype('object')"
   ]
  },
  {
   "cell_type": "markdown",
   "id": "befe1781",
   "metadata": {},
   "source": [
    "# Encoding categorical \n",
    "## make one hot encoder"
   ]
  },
  {
   "cell_type": "code",
   "execution_count": 6,
   "id": "6f6f08f3",
   "metadata": {},
   "outputs": [
    {
     "data": {
      "text/html": [
       "<div>\n",
       "<style scoped>\n",
       "    .dataframe tbody tr th:only-of-type {\n",
       "        vertical-align: middle;\n",
       "    }\n",
       "\n",
       "    .dataframe tbody tr th {\n",
       "        vertical-align: top;\n",
       "    }\n",
       "\n",
       "    .dataframe thead th {\n",
       "        text-align: right;\n",
       "    }\n",
       "</style>\n",
       "<table border=\"1\" class=\"dataframe\">\n",
       "  <thead>\n",
       "    <tr style=\"text-align: right;\">\n",
       "      <th></th>\n",
       "      <th>Employer_Category2</th>\n",
       "      <th>Loan_Amount</th>\n",
       "      <th>Loan_Period</th>\n",
       "      <th>Interest_Rate</th>\n",
       "      <th>Var1</th>\n",
       "      <th>Approved</th>\n",
       "      <th>Gender_Male</th>\n",
       "      <th>City_Code_C10002</th>\n",
       "      <th>City_Code_C10003</th>\n",
       "      <th>City_Code_C10004</th>\n",
       "      <th>...</th>\n",
       "      <th>Source_S159</th>\n",
       "      <th>Source_S160</th>\n",
       "      <th>Source_S161</th>\n",
       "      <th>Source_S162</th>\n",
       "      <th>Source_Category_B</th>\n",
       "      <th>Source_Category_C</th>\n",
       "      <th>Source_Category_D</th>\n",
       "      <th>Source_Category_E</th>\n",
       "      <th>Source_Category_F</th>\n",
       "      <th>Source_Category_G</th>\n",
       "    </tr>\n",
       "  </thead>\n",
       "  <tbody>\n",
       "    <tr>\n",
       "      <th>0</th>\n",
       "      <td>4.0</td>\n",
       "      <td>39429.982859</td>\n",
       "      <td>3.890629</td>\n",
       "      <td>19.21357</td>\n",
       "      <td>0</td>\n",
       "      <td>0</td>\n",
       "      <td>0</td>\n",
       "      <td>0</td>\n",
       "      <td>0</td>\n",
       "      <td>0</td>\n",
       "      <td>...</td>\n",
       "      <td>0</td>\n",
       "      <td>0</td>\n",
       "      <td>0</td>\n",
       "      <td>0</td>\n",
       "      <td>0</td>\n",
       "      <td>0</td>\n",
       "      <td>0</td>\n",
       "      <td>0</td>\n",
       "      <td>0</td>\n",
       "      <td>1</td>\n",
       "    </tr>\n",
       "    <tr>\n",
       "      <th>1</th>\n",
       "      <td>1.0</td>\n",
       "      <td>20000.000000</td>\n",
       "      <td>2.000000</td>\n",
       "      <td>13.25000</td>\n",
       "      <td>10</td>\n",
       "      <td>0</td>\n",
       "      <td>1</td>\n",
       "      <td>0</td>\n",
       "      <td>1</td>\n",
       "      <td>0</td>\n",
       "      <td>...</td>\n",
       "      <td>0</td>\n",
       "      <td>0</td>\n",
       "      <td>0</td>\n",
       "      <td>0</td>\n",
       "      <td>0</td>\n",
       "      <td>0</td>\n",
       "      <td>0</td>\n",
       "      <td>0</td>\n",
       "      <td>0</td>\n",
       "      <td>1</td>\n",
       "    </tr>\n",
       "    <tr>\n",
       "      <th>2</th>\n",
       "      <td>4.0</td>\n",
       "      <td>45000.000000</td>\n",
       "      <td>4.000000</td>\n",
       "      <td>19.21357</td>\n",
       "      <td>0</td>\n",
       "      <td>0</td>\n",
       "      <td>1</td>\n",
       "      <td>0</td>\n",
       "      <td>0</td>\n",
       "      <td>0</td>\n",
       "      <td>...</td>\n",
       "      <td>0</td>\n",
       "      <td>0</td>\n",
       "      <td>0</td>\n",
       "      <td>0</td>\n",
       "      <td>1</td>\n",
       "      <td>0</td>\n",
       "      <td>0</td>\n",
       "      <td>0</td>\n",
       "      <td>0</td>\n",
       "      <td>0</td>\n",
       "    </tr>\n",
       "    <tr>\n",
       "      <th>3</th>\n",
       "      <td>4.0</td>\n",
       "      <td>92000.000000</td>\n",
       "      <td>5.000000</td>\n",
       "      <td>19.21357</td>\n",
       "      <td>7</td>\n",
       "      <td>0</td>\n",
       "      <td>1</td>\n",
       "      <td>0</td>\n",
       "      <td>0</td>\n",
       "      <td>0</td>\n",
       "      <td>...</td>\n",
       "      <td>0</td>\n",
       "      <td>0</td>\n",
       "      <td>0</td>\n",
       "      <td>0</td>\n",
       "      <td>1</td>\n",
       "      <td>0</td>\n",
       "      <td>0</td>\n",
       "      <td>0</td>\n",
       "      <td>0</td>\n",
       "      <td>0</td>\n",
       "    </tr>\n",
       "    <tr>\n",
       "      <th>4</th>\n",
       "      <td>4.0</td>\n",
       "      <td>50000.000000</td>\n",
       "      <td>2.000000</td>\n",
       "      <td>19.21357</td>\n",
       "      <td>10</td>\n",
       "      <td>0</td>\n",
       "      <td>1</td>\n",
       "      <td>1</td>\n",
       "      <td>0</td>\n",
       "      <td>0</td>\n",
       "      <td>...</td>\n",
       "      <td>0</td>\n",
       "      <td>0</td>\n",
       "      <td>0</td>\n",
       "      <td>0</td>\n",
       "      <td>1</td>\n",
       "      <td>0</td>\n",
       "      <td>0</td>\n",
       "      <td>0</td>\n",
       "      <td>0</td>\n",
       "      <td>0</td>\n",
       "    </tr>\n",
       "    <tr>\n",
       "      <th>...</th>\n",
       "      <td>...</td>\n",
       "      <td>...</td>\n",
       "      <td>...</td>\n",
       "      <td>...</td>\n",
       "      <td>...</td>\n",
       "      <td>...</td>\n",
       "      <td>...</td>\n",
       "      <td>...</td>\n",
       "      <td>...</td>\n",
       "      <td>...</td>\n",
       "      <td>...</td>\n",
       "      <td>...</td>\n",
       "      <td>...</td>\n",
       "      <td>...</td>\n",
       "      <td>...</td>\n",
       "      <td>...</td>\n",
       "      <td>...</td>\n",
       "      <td>...</td>\n",
       "      <td>...</td>\n",
       "      <td>...</td>\n",
       "      <td>...</td>\n",
       "    </tr>\n",
       "    <tr>\n",
       "      <th>69708</th>\n",
       "      <td>1.0</td>\n",
       "      <td>39429.982859</td>\n",
       "      <td>3.890629</td>\n",
       "      <td>19.21357</td>\n",
       "      <td>10</td>\n",
       "      <td>0</td>\n",
       "      <td>0</td>\n",
       "      <td>0</td>\n",
       "      <td>0</td>\n",
       "      <td>0</td>\n",
       "      <td>...</td>\n",
       "      <td>0</td>\n",
       "      <td>0</td>\n",
       "      <td>0</td>\n",
       "      <td>0</td>\n",
       "      <td>0</td>\n",
       "      <td>0</td>\n",
       "      <td>0</td>\n",
       "      <td>0</td>\n",
       "      <td>0</td>\n",
       "      <td>1</td>\n",
       "    </tr>\n",
       "    <tr>\n",
       "      <th>69709</th>\n",
       "      <td>4.0</td>\n",
       "      <td>39429.982859</td>\n",
       "      <td>3.890629</td>\n",
       "      <td>19.21357</td>\n",
       "      <td>7</td>\n",
       "      <td>0</td>\n",
       "      <td>0</td>\n",
       "      <td>0</td>\n",
       "      <td>0</td>\n",
       "      <td>0</td>\n",
       "      <td>...</td>\n",
       "      <td>0</td>\n",
       "      <td>0</td>\n",
       "      <td>0</td>\n",
       "      <td>0</td>\n",
       "      <td>0</td>\n",
       "      <td>0</td>\n",
       "      <td>0</td>\n",
       "      <td>0</td>\n",
       "      <td>0</td>\n",
       "      <td>1</td>\n",
       "    </tr>\n",
       "    <tr>\n",
       "      <th>69710</th>\n",
       "      <td>4.0</td>\n",
       "      <td>24000.000000</td>\n",
       "      <td>4.000000</td>\n",
       "      <td>35.50000</td>\n",
       "      <td>2</td>\n",
       "      <td>0</td>\n",
       "      <td>0</td>\n",
       "      <td>0</td>\n",
       "      <td>0</td>\n",
       "      <td>0</td>\n",
       "      <td>...</td>\n",
       "      <td>0</td>\n",
       "      <td>0</td>\n",
       "      <td>0</td>\n",
       "      <td>0</td>\n",
       "      <td>0</td>\n",
       "      <td>0</td>\n",
       "      <td>0</td>\n",
       "      <td>0</td>\n",
       "      <td>0</td>\n",
       "      <td>1</td>\n",
       "    </tr>\n",
       "    <tr>\n",
       "      <th>69711</th>\n",
       "      <td>3.0</td>\n",
       "      <td>80000.000000</td>\n",
       "      <td>5.000000</td>\n",
       "      <td>19.21357</td>\n",
       "      <td>10</td>\n",
       "      <td>0</td>\n",
       "      <td>1</td>\n",
       "      <td>1</td>\n",
       "      <td>0</td>\n",
       "      <td>0</td>\n",
       "      <td>...</td>\n",
       "      <td>0</td>\n",
       "      <td>0</td>\n",
       "      <td>0</td>\n",
       "      <td>0</td>\n",
       "      <td>0</td>\n",
       "      <td>0</td>\n",
       "      <td>0</td>\n",
       "      <td>0</td>\n",
       "      <td>0</td>\n",
       "      <td>1</td>\n",
       "    </tr>\n",
       "    <tr>\n",
       "      <th>69712</th>\n",
       "      <td>1.0</td>\n",
       "      <td>69000.000000</td>\n",
       "      <td>4.000000</td>\n",
       "      <td>13.99000</td>\n",
       "      <td>10</td>\n",
       "      <td>0</td>\n",
       "      <td>1</td>\n",
       "      <td>0</td>\n",
       "      <td>1</td>\n",
       "      <td>0</td>\n",
       "      <td>...</td>\n",
       "      <td>0</td>\n",
       "      <td>0</td>\n",
       "      <td>0</td>\n",
       "      <td>0</td>\n",
       "      <td>0</td>\n",
       "      <td>0</td>\n",
       "      <td>0</td>\n",
       "      <td>0</td>\n",
       "      <td>0</td>\n",
       "      <td>1</td>\n",
       "    </tr>\n",
       "  </tbody>\n",
       "</table>\n",
       "<p>69713 rows × 780 columns</p>\n",
       "</div>"
      ],
      "text/plain": [
       "       Employer_Category2   Loan_Amount  Loan_Period  Interest_Rate  Var1  \\\n",
       "0                     4.0  39429.982859     3.890629       19.21357     0   \n",
       "1                     1.0  20000.000000     2.000000       13.25000    10   \n",
       "2                     4.0  45000.000000     4.000000       19.21357     0   \n",
       "3                     4.0  92000.000000     5.000000       19.21357     7   \n",
       "4                     4.0  50000.000000     2.000000       19.21357    10   \n",
       "...                   ...           ...          ...            ...   ...   \n",
       "69708                 1.0  39429.982859     3.890629       19.21357    10   \n",
       "69709                 4.0  39429.982859     3.890629       19.21357     7   \n",
       "69710                 4.0  24000.000000     4.000000       35.50000     2   \n",
       "69711                 3.0  80000.000000     5.000000       19.21357    10   \n",
       "69712                 1.0  69000.000000     4.000000       13.99000    10   \n",
       "\n",
       "       Approved  Gender_Male  City_Code_C10002  City_Code_C10003  \\\n",
       "0             0            0                 0                 0   \n",
       "1             0            1                 0                 1   \n",
       "2             0            1                 0                 0   \n",
       "3             0            1                 0                 0   \n",
       "4             0            1                 1                 0   \n",
       "...         ...          ...               ...               ...   \n",
       "69708         0            0                 0                 0   \n",
       "69709         0            0                 0                 0   \n",
       "69710         0            0                 0                 0   \n",
       "69711         0            1                 1                 0   \n",
       "69712         0            1                 0                 1   \n",
       "\n",
       "       City_Code_C10004  ...  Source_S159  Source_S160  Source_S161  \\\n",
       "0                     0  ...            0            0            0   \n",
       "1                     0  ...            0            0            0   \n",
       "2                     0  ...            0            0            0   \n",
       "3                     0  ...            0            0            0   \n",
       "4                     0  ...            0            0            0   \n",
       "...                 ...  ...          ...          ...          ...   \n",
       "69708                 0  ...            0            0            0   \n",
       "69709                 0  ...            0            0            0   \n",
       "69710                 0  ...            0            0            0   \n",
       "69711                 0  ...            0            0            0   \n",
       "69712                 0  ...            0            0            0   \n",
       "\n",
       "       Source_S162  Source_Category_B  Source_Category_C  Source_Category_D  \\\n",
       "0                0                  0                  0                  0   \n",
       "1                0                  0                  0                  0   \n",
       "2                0                  1                  0                  0   \n",
       "3                0                  1                  0                  0   \n",
       "4                0                  1                  0                  0   \n",
       "...            ...                ...                ...                ...   \n",
       "69708            0                  0                  0                  0   \n",
       "69709            0                  0                  0                  0   \n",
       "69710            0                  0                  0                  0   \n",
       "69711            0                  0                  0                  0   \n",
       "69712            0                  0                  0                  0   \n",
       "\n",
       "       Source_Category_E  Source_Category_F  Source_Category_G  \n",
       "0                      0                  0                  1  \n",
       "1                      0                  0                  1  \n",
       "2                      0                  0                  0  \n",
       "3                      0                  0                  0  \n",
       "4                      0                  0                  0  \n",
       "...                  ...                ...                ...  \n",
       "69708                  0                  0                  1  \n",
       "69709                  0                  0                  1  \n",
       "69710                  0                  0                  1  \n",
       "69711                  0                  0                  1  \n",
       "69712                  0                  0                  1  \n",
       "\n",
       "[69713 rows x 780 columns]"
      ]
     },
     "execution_count": 6,
     "metadata": {},
     "output_type": "execute_result"
    }
   ],
   "source": [
    "cat_col=list(df.describe(include='O').columns)\n",
    "df=pd.get_dummies(df,cat_col,drop_first=True)\n",
    "df"
   ]
  },
  {
   "cell_type": "code",
   "execution_count": 15,
   "id": "960c716e",
   "metadata": {},
   "outputs": [],
   "source": [
    "\n",
    "X=df.drop('Approved',axis=1)\n",
    "y=df['Approved'].values"
   ]
  },
  {
   "cell_type": "code",
   "execution_count": 13,
   "id": "28bdb7f3",
   "metadata": {},
   "outputs": [
    {
     "name": "stderr",
     "output_type": "stream",
     "text": [
      "C:\\Users\\xps\\anaconda3\\lib\\site-packages\\seaborn\\_decorators.py:36: FutureWarning: Pass the following variable as a keyword arg: x. From version 0.12, the only valid positional argument will be `data`, and passing other arguments without an explicit keyword will result in an error or misinterpretation.\n",
      "  warnings.warn(\n"
     ]
    },
    {
     "data": {
      "text/plain": [
       "<AxesSubplot:ylabel='count'>"
      ]
     },
     "execution_count": 13,
     "metadata": {},
     "output_type": "execute_result"
    },
    {
     "data": {
      "image/png": "[encoded data removed]",
      "text/plain": [
       "<Figure size 432x288 with 1 Axes>"
      ]
     },
     "metadata": {
      "needs_background": "light"
     },
     "output_type": "display_data"
    }
   ],
   "source": [
    "sns.countplot(y_train)"
   ]
  },
  {
   "cell_type": "code",
   "execution_count": null,
   "id": "70dcc951",
   "metadata": {},
   "outputs": [],
   "source": [
    "#this is called impalanced dataset"
   ]
  },
  {
   "cell_type": "code",
   "execution_count": 16,
   "id": "96dfddbe",
   "metadata": {},
   "outputs": [],
   "source": [
    "from sklearn.model_selection import train_test_split\n",
    "X_train,X_test,y_train,y_test=train_test_split(X,y,test_size=0.2,random_state=1)"
   ]
  },
  {
   "cell_type": "code",
   "execution_count": 17,
   "id": "80d6927d",
   "metadata": {},
   "outputs": [],
   "source": [
    "smote=SMOTE()\n",
    "X_train_smote ,y_train_smote=smote.fit_resample(X_train,y_train)"
   ]
  },
  {
   "cell_type": "code",
   "execution_count": 12,
   "id": "d3e6a03c",
   "metadata": {},
   "outputs": [
    {
     "name": "stderr",
     "output_type": "stream",
     "text": [
      "C:\\Users\\xps\\anaconda3\\lib\\site-packages\\seaborn\\_decorators.py:36: FutureWarning: Pass the following variable as a keyword arg: x. From version 0.12, the only valid positional argument will be `data`, and passing other arguments without an explicit keyword will result in an error or misinterpretation.\n",
      "  warnings.warn(\n"
     ]
    },
    {
     "data": {
      "text/plain": [
       "<AxesSubplot:ylabel='count'>"
      ]
     },
     "execution_count": 12,
     "metadata": {},
     "output_type": "execute_result"
    },
    {
     "data": {
      "image/png": "[encoded data removed]",
      "text/plain": [
       "<Figure size 432x288 with 1 Axes>"
      ]
     },
     "metadata": {
      "needs_background": "light"
     },
     "output_type": "display_data"
    }
   ],
   "source": [
    "sns.countplot(y_train_smote)"
   ]
  },
  {
   "cell_type": "code",
   "execution_count": null,
   "id": "2f7bd5fa",
   "metadata": {},
   "outputs": [],
   "source": [
    "# with the smote way the data became palanced data"
   ]
  },
  {
   "cell_type": "markdown",
   "id": "dabbc7eb",
   "metadata": {},
   "source": [
    "# make model selection"
   ]
  },
  {
   "cell_type": "markdown",
   "id": "99955f2c",
   "metadata": {},
   "source": [
    "## 1-try descission tree model"
   ]
  },
  {
   "cell_type": "code",
   "execution_count": 10,
   "id": "0e1bbacf",
   "metadata": {},
   "outputs": [
    {
     "name": "stdout",
     "output_type": "stream",
     "text": [
      "training accuracy 0.9842675159235669\n",
      "testing accuracy 0.9429104209997848\n"
     ]
    }
   ],
   "source": [
    "from sklearn.metrics import accuracy_score,classification_report\n",
    "from sklearn.tree import DecisionTreeClassifier\n",
    "model=DecisionTreeClassifier()\n",
    "model.fit(X_train_smote,y_train_smote)\n",
    "y_train_pred=model.predict(X_train_smote)\n",
    "print('training accuracy',accuracy_score(y_train_pred,y_train_smote))\n",
    "y_pred=model.predict(X_test)\n",
    "print('testing accuracy',accuracy_score(y_pred,y_test))"
   ]
  },
  {
   "cell_type": "code",
   "execution_count": null,
   "id": "d718be13",
   "metadata": {},
   "outputs": [],
   "source": [
    "# there is an overfitting "
   ]
  },
  {
   "cell_type": "code",
   "execution_count": null,
   "id": "ae533cac",
   "metadata": {},
   "outputs": [],
   "source": []
  },
  {
   "cell_type": "markdown",
   "id": "bd260a14",
   "metadata": {},
   "source": [
    "# 2-naive_bayes  model"
   ]
  },
  {
   "cell_type": "code",
   "execution_count": 22,
   "id": "3dc4ba40",
   "metadata": {},
   "outputs": [
    {
     "name": "stdout",
     "output_type": "stream",
     "text": [
      "training accuracy 0.6898726114649681\n",
      "testing accuracy 0.5173922398336083\n"
     ]
    }
   ],
   "source": [
    "from sklearn.naive_bayes import GaussianNB\n",
    "model=GaussianNB()\n",
    "model.fit(X_train_smote,y_train_smote)\n",
    "y_train_pred=model.predict(X_train_smote)\n",
    "print('training accuracy',accuracy_score(y_train_pred,y_train_smote))\n",
    "y_pred=model.predict(X_test)\n",
    "print('testing accuracy',accuracy_score(y_pred,y_test))"
   ]
  },
  {
   "cell_type": "code",
   "execution_count": 23,
   "id": "6c2ed171",
   "metadata": {},
   "outputs": [],
   "source": [
    "# there is correlation between the features"
   ]
  },
  {
   "cell_type": "markdown",
   "id": "f24d2893",
   "metadata": {},
   "source": [
    "# 3-KNeighborsClassifier"
   ]
  },
  {
   "cell_type": "code",
   "execution_count": 11,
   "id": "95c71c2f",
   "metadata": {},
   "outputs": [
    {
     "name": "stdout",
     "output_type": "stream",
     "text": [
      "training accuracy 0.9046223839854413\n",
      "testing accuracy 0.8466614071577135\n",
      "              precision    recall  f1-score   support\n",
      "\n",
      "           0       0.99      0.85      0.92     13743\n",
      "           1       0.03      0.36      0.06       200\n",
      "\n",
      "    accuracy                           0.85     13943\n",
      "   macro avg       0.51      0.61      0.49     13943\n",
      "weighted avg       0.98      0.85      0.90     13943\n",
      "\n",
      "[[11733  2010]\n",
      " [  128    72]]\n"
     ]
    }
   ],
   "source": [
    "# poc proof of concept\n",
    "from sklearn.neighbors import KNeighborsClassifier\n",
    "model=KNeighborsClassifier(n_neighbors=10)\n",
    "model.fit(X_train_smote,y_train_smote)\n",
    "y_train_pred=model.predict(X_train_smote)\n",
    "print('training accuracy',accuracy_score(y_train_pred,y_train_smote))\n",
    "y_pred=model.predict(X_test)\n",
    "print('testing accuracy',accuracy_score(y_pred,y_test))\n",
    "print(classification_report(y_test, y_pred))\n",
    "print(confusion_matrix(y_test, y_pred))"
   ]
  },
  {
   "cell_type": "code",
   "execution_count": null,
   "id": "668839d7",
   "metadata": {},
   "outputs": [],
   "source": [
    "# it isnot high accuracy it be better for sample of the data not in big dataset"
   ]
  },
  {
   "cell_type": "markdown",
   "id": "292d72d4",
   "metadata": {},
   "source": [
    "# there is an overfitting"
   ]
  },
  {
   "cell_type": "markdown",
   "id": "1a1563eb",
   "metadata": {},
   "source": [
    "# 4-LogisticRegression model"
   ]
  },
  {
   "cell_type": "code",
   "execution_count": 18,
   "id": "d6b9a523",
   "metadata": {},
   "outputs": [
    {
     "name": "stdout",
     "output_type": "stream",
     "text": [
      "              precision    recall  f1-score   support\n",
      "\n",
      "           0       0.64      0.74      0.69     47971\n",
      "           1       0.77      0.68      0.73     61929\n",
      "\n",
      "    accuracy                           0.71    109900\n",
      "   macro avg       0.71      0.71      0.71    109900\n",
      "weighted avg       0.72      0.71      0.71    109900\n",
      "\n",
      "[[35416 12555]\n",
      " [19534 42395]]\n"
     ]
    }
   ],
   "source": [
    "from sklearn.linear_model import LogisticRegression\n",
    "model=LogisticRegression()\n",
    "model.fit(X_train_smote,y_train_smote)\n",
    "y_train_pred=model.predict(X_train_smote)\n",
    "y_pred=model.predict(X_test)\n",
    "print(classification_report(y_test, y_pred))\n",
    "print(confusion_matrix(y_test, y_pred))\n"
   ]
  },
  {
   "cell_type": "code",
   "execution_count": null,
   "id": "64c9bc4f",
   "metadata": {},
   "outputs": [
    {
     "data": {
      "text/plain": [
       "<AxesSubplot:>"
      ]
     },
     "execution_count": 14,
     "metadata": {},
     "output_type": "execute_result"
    }
   ],
   "source": [
    "# it isnt high accuracy"
   ]
  },
  {
   "cell_type": "markdown",
   "id": "074ce7c4",
   "metadata": {},
   "source": [
    "# 5-RandomForestClassifier"
   ]
  },
  {
   "cell_type": "code",
   "execution_count": 20,
   "id": "d69ee1ec",
   "metadata": {},
   "outputs": [
    {
     "name": "stdout",
     "output_type": "stream",
     "text": [
      "training accuracy 0.9841856232939036\n",
      "testing accuracy 0.9607688445815105\n",
      "              precision    recall  f1-score   support\n",
      "\n",
      "           0       0.98      0.99      0.98     54554\n",
      "           1       0.99      0.98      0.98     55346\n",
      "\n",
      "    accuracy                           0.98    109900\n",
      "   macro avg       0.98      0.98      0.98    109900\n",
      "weighted avg       0.98      0.98      0.98    109900\n",
      "\n",
      "[[53883   671]\n",
      " [ 1067 54279]]\n"
     ]
    }
   ],
   "source": [
    "# bagging \n",
    "# making parts of the data and make testing for partial of the data\n",
    "from sklearn.ensemble import RandomForestClassifier\n",
    "model=RandomForestClassifier(n_estimators=50)\n",
    "model.fit(X_train_smote,y_train_smote)\n",
    "y_train_pred=model.predict(X_train_smote)\n",
    "print('training accuracy',accuracy_score(y_train_pred,y_train_smote))\n",
    "y_pred=model.predict(X_test)\n",
    "print('testing accuracy',accuracy_score(y_pred,y_test))\n",
    "print(classification_report(y_test, y_pred))\n",
    "print(confusion_matrix(y_test, y_pred))"
   ]
  },
  {
   "cell_type": "code",
   "execution_count": null,
   "id": "4ce40a22",
   "metadata": {},
   "outputs": [],
   "source": [
    "# this is an acceptable model there is no overfiting"
   ]
  },
  {
   "cell_type": "markdown",
   "id": "9187b0a3",
   "metadata": {},
   "source": [
    "# 6-GradientBoosting"
   ]
  },
  {
   "cell_type": "code",
   "execution_count": 13,
   "id": "de4ba54f",
   "metadata": {},
   "outputs": [
    {
     "name": "stdout",
     "output_type": "stream",
     "text": [
      "training accuracy 0.8961328480436761\n",
      "testing accuracy 0.9013842071290253\n",
      "              precision    recall  f1-score   support\n",
      "\n",
      "           0       0.99      0.91      0.95     13743\n",
      "           1       0.04      0.27      0.07       200\n",
      "\n",
      "    accuracy                           0.90     13943\n",
      "   macro avg       0.51      0.59      0.51     13943\n",
      "weighted avg       0.97      0.90      0.94     13943\n",
      "\n",
      "[[12515  1228]\n",
      " [  147    53]]\n"
     ]
    }
   ],
   "source": [
    "# boosting\n",
    "from sklearn.ensemble import GradientBoostingClassifier\n",
    "model=GradientBoostingClassifier(n_estimators=100)\n",
    "model.fit(X_train_smote,y_train_smote)\n",
    "y_train_pred=model.predict(X_train_smote)\n",
    "print('training accuracy',accuracy_score(y_train_pred,y_train_smote))\n",
    "y_pred=model.predict(X_test)\n",
    "print('testing accuracy',accuracy_score(y_pred,y_test))\n",
    "print(classification_report(y_test, y_pred))\n",
    "print(confusion_matrix(y_test, y_pred))"
   ]
  },
  {
   "cell_type": "code",
   "execution_count": null,
   "id": "9b6ca0b2",
   "metadata": {},
   "outputs": [],
   "source": [
    "# this an acceptable model "
   ]
  },
  {
   "cell_type": "code",
   "execution_count": 27,
   "id": "a46ea411",
   "metadata": {},
   "outputs": [
    {
     "name": "stdout",
     "output_type": "stream",
     "text": [
      "Collecting lightgbm\n",
      "  Downloading lightgbm-3.3.3-py3-none-win_amd64.whl (1.0 MB)\n",
      "Requirement already satisfied: scipy in c:\\users\\xps\\anaconda3\\lib\\site-packages (from lightgbm) (1.7.3)\n",
      "Requirement already satisfied: wheel in c:\\users\\xps\\anaconda3\\lib\\site-packages (from lightgbm) (0.37.1)\n",
      "Requirement already satisfied: scikit-learn!=0.22.0 in c:\\users\\xps\\anaconda3\\lib\\site-packages (from lightgbm) (1.1.3)\n",
      "Requirement already satisfied: numpy in c:\\users\\xps\\anaconda3\\lib\\site-packages (from lightgbm) (1.21.5)\n",
      "Requirement already satisfied: threadpoolctl>=2.0.0 in c:\\users\\xps\\anaconda3\\lib\\site-packages (from scikit-learn!=0.22.0->lightgbm) (2.2.0)\n",
      "Requirement already satisfied: joblib>=1.0.0 in c:\\users\\xps\\anaconda3\\lib\\site-packages (from scikit-learn!=0.22.0->lightgbm) (1.1.0)\n",
      "Installing collected packages: lightgbm\n",
      "Successfully installed lightgbm-3.3.3\n"
     ]
    }
   ],
   "source": [
    "!pip install lightgbm"
   ]
  },
  {
   "cell_type": "markdown",
   "id": "8d5f5a6e",
   "metadata": {},
   "source": [
    "# 7- lightgbm"
   ]
  },
  {
   "cell_type": "code",
   "execution_count": 29,
   "id": "e8ee3d10",
   "metadata": {},
   "outputs": [
    {
     "name": "stdout",
     "output_type": "stream",
     "text": [
      "\n",
      "LGBMClassifier()\n",
      "              precision    recall  f1-score   support\n",
      "\n",
      "           0       0.99      0.96      0.97     13743\n",
      "           1       0.04      0.11      0.06       200\n",
      "\n",
      "    accuracy                           0.95     13943\n",
      "   macro avg       0.51      0.54      0.52     13943\n",
      "weighted avg       0.97      0.95      0.96     13943\n",
      "\n",
      "[[13227   516]\n",
      " [  178    22]]\n"
     ]
    }
   ],
   "source": [
    "#  it deal with large dataset and it is fast\n",
    "import lightgbm as ltb\n",
    "model = ltb.LGBMClassifier()\n",
    "model.fit(X_train_smote, y_train_smote)\n",
    "print(); print(model)\n",
    "    \n",
    "expected_y  = y_test\n",
    "    \n",
    "predicted_y = model.predict(X_test)\n",
    "print(classification_report(expected_y, predicted_y))\n",
    "print(confusion_matrix(expected_y, predicted_y))"
   ]
  },
  {
   "cell_type": "markdown",
   "id": "dab461ce",
   "metadata": {},
   "source": [
    "# 8-Adaboost model"
   ]
  },
  {
   "cell_type": "code",
   "execution_count": 19,
   "id": "bdffdd23",
   "metadata": {},
   "outputs": [
    {
     "name": "stdout",
     "output_type": "stream",
     "text": [
      "              precision    recall  f1-score   support\n",
      "\n",
      "           0       0.99      0.88      0.93     13743\n",
      "           1       0.03      0.23      0.05       200\n",
      "\n",
      "    accuracy                           0.87     13943\n",
      "   macro avg       0.51      0.56      0.49     13943\n",
      "weighted avg       0.97      0.87      0.92     13943\n",
      "\n",
      "[[12137  1606]\n",
      " [  153    47]]\n"
     ]
    }
   ],
   "source": [
    "# it is fast,simple and easy algorithm it deal with numeric and text dataset\n",
    "from sklearn.ensemble import AdaBoostClassifier\n",
    "model=AdaBoostClassifier(n_estimators=100)\n",
    "model.fit(X_train_smote,y_train_smote)\n",
    "y_pred=model.predict(X_test)\n",
    "print(classification_report(y_test, y_pred))\n",
    "print(confusion_matrix(y_test, y_pred))"
   ]
  },
  {
   "cell_type": "markdown",
   "id": "0997b94f",
   "metadata": {},
   "source": [
    "# 9- xgboost"
   ]
  },
  {
   "cell_type": "code",
   "execution_count": 25,
   "id": "ec00d137",
   "metadata": {},
   "outputs": [
    {
     "name": "stdout",
     "output_type": "stream",
     "text": [
      "Collecting xgboost\n",
      "  Downloading xgboost-1.7.1-py3-none-win_amd64.whl (89.1 MB)\n",
      "Requirement already satisfied: scipy in c:\\users\\xps\\anaconda3\\lib\\site-packages (from xgboost) (1.7.3)\n",
      "Requirement already satisfied: numpy in c:\\users\\xps\\anaconda3\\lib\\site-packages (from xgboost) (1.21.5)\n",
      "Installing collected packages: xgboost\n",
      "Successfully installed xgboost-1.7.1\n",
      "Note: you may need to restart the kernel to use updated packages.\n"
     ]
    }
   ],
   "source": [
    "pip install xgboost"
   ]
  },
  {
   "cell_type": "markdown",
   "id": "0c121d03",
   "metadata": {},
   "source": [
    "# 9- xgboost"
   ]
  },
  {
   "cell_type": "code",
   "execution_count": 26,
   "id": "ce8ceb1a",
   "metadata": {},
   "outputs": [
    {
     "name": "stdout",
     "output_type": "stream",
     "text": [
      "              precision    recall  f1-score   support\n",
      "\n",
      "           0       0.99      0.96      0.97     13743\n",
      "           1       0.04      0.12      0.06       200\n",
      "\n",
      "    accuracy                           0.95     13943\n",
      "   macro avg       0.51      0.54      0.52     13943\n",
      "weighted avg       0.97      0.95      0.96     13943\n",
      "\n",
      "[[13172   571]\n",
      " [  176    24]]\n"
     ]
    }
   ],
   "source": [
    "#It provides parallel tree boosting and is the leading machine learning library for \n",
    "#regression, classification, and ranking problems.\n",
    "\n",
    "from xgboost import XGBClassifier\n",
    "xgb=XGBClassifier(n_estimators=100)\n",
    "xgb.fit(X_train_smote,y_train_smote)\n",
    "y_pred=xgb.predict(X_test)\n",
    "print(classification_report(y_test, y_pred))\n",
    "print(confusion_matrix(y_test, y_pred))"
   ]
  },
  {
   "cell_type": "code",
   "execution_count": 31,
   "id": "a27a4368",
   "metadata": {},
   "outputs": [
    {
     "name": "stdout",
     "output_type": "stream",
     "text": [
      "              precision    recall  f1-score   support\n",
      "\n",
      "           0       0.99      0.93      0.96     13743\n",
      "           1       0.04      0.21      0.07       200\n",
      "\n",
      "    accuracy                           0.92     13943\n",
      "   macro avg       0.51      0.57      0.51     13943\n",
      "weighted avg       0.97      0.92      0.94     13943\n",
      "\n",
      "[[12725  1018]\n",
      " [  157    43]]\n"
     ]
    }
   ],
   "source": [
    "from sklearn.ensemble import GradientBoostingClassifier\n",
    "gp= GradientBoostingClassifier(n_estimators=200)\n",
    "gp.fit(X_train_smote,y_train_smote)\n",
    "y_pred=gp.predict(X_test)\n",
    "print(classification_report(y_test,y_pred))\n",
    "print(confusion_matrix(y_test, y_pred))"
   ]
  },
  {
   "cell_type": "code",
   "execution_count": 66,
   "id": "812cac88",
   "metadata": {},
   "outputs": [
    {
     "data": {
      "text/plain": [
       "<function matplotlib.pyplot.show(close=None, block=None)>"
      ]
     },
     "execution_count": 66,
     "metadata": {},
     "output_type": "execute_result"
    },
    {
     "data": {
      "image/png": "[encoded data removed]",
      "text/plain": [
       "<Figure size 1440x720 with 1 Axes>"
      ]
     },
     "metadata": {
      "needs_background": "light"
     },
     "output_type": "display_data"
    }
   ],
   "source": [
    "accuracy=pd.DataFrame(\n",
    "data={'models':['descission tree','naive_bayes','KNeighborsClassifier','LogisticRegression','RandomForestClassifier','GradientBoosting','Adaboost model','xgboost','lightgbm','GradientBoostingClassifier'],\n",
    "      'accuracy':[.94,.51,.85,.71,.98,.90,0.95,.87, 0.95, 0.92]\n",
    "    \n",
    "})\n",
    "plt.figure(figsize=(20,10))\n",
    "ax=sns.barplot(x='models',y='accuracy',data=accuracy)\n",
    "plt.bar_label(ax.containers[0])\n",
    "plt.title('models vs  accuracy',fontsize=50)\n",
    "plt.xlabel('models',fontsize=50)\n",
    "plt.ylabel('accuracy',fontsize=50)\n",
    "plt.show"
   ]
  },
  {
   "cell_type": "code",
   "execution_count": null,
   "id": "db995aab",
   "metadata": {},
   "outputs": [],
   "source": [
    "# random forest is the highest algorithm according to accuracy\n",
    "# we wii make grid search to take the best model in the random forest algorithm"
   ]
  },
  {
   "cell_type": "code",
   "execution_count": null,
   "id": "ee762c5b",
   "metadata": {},
   "outputs": [],
   "source": [
    "from sklearn.ensemble import RandomForestClassifier\n",
    "from sklearn.model_selection import GridSearchCV\n",
    "param_grid = {\n",
    "\n",
    "    'max_depth': [4,8,12],\n",
    "    'max_features': [6,12],\n",
    "    'min_samples_leaf': [3, 4, 5],\n",
    "    'min_samples_split': [8, 10, 12],\n",
    "    'n_estimators': [100, 200, 300, 1000]\n",
    "}\n",
    "# Create a based model\n",
    "rf = RandomForestClassifier()\n",
    "# Instantiate the grid search model\n",
    "grid_search = GridSearchCV(estimator = rf, param_grid = param_grid, \n",
    "                          cv = 3)\n",
    "grid_search.fit(X_train_smote,y_train_smote)\n"
   ]
  },
  {
   "cell_type": "code",
   "execution_count": null,
   "id": "c980f598",
   "metadata": {},
   "outputs": [],
   "source": [
    "grid_searh.best_estimator_"
   ]
  },
  {
   "cell_type": "code",
   "execution_count": null,
   "id": "40f2de5c",
   "metadata": {},
   "outputs": [],
   "source": [
    "\n",
    "Discretization\n",
    "Now let's discretize some of the numerical attributes. We will work with the age and the hours-per-week as examples.\n",
    "\n",
    "age_group = [] # define array structure\n",
    "for age in encoded_data[\"age\"]:\n",
    "    if age < 25:\n",
    "        age_group.append(\"<25\")\n",
    "    elif 25 <= age <= 34:\n",
    "        age_group.append(\"25-34\")\n",
    "    elif 34 < age <= 44:\n",
    "        age_group.append(\"35-44\")\n",
    "    elif 44 < age <= 54:\n",
    "        age_group.append(\"45-54\")\n",
    "    elif 54 < age <= 65:\n",
    "        age_group.append(\"55-64\")\n",
    "    else:\n",
    "        age_group.append(\"65 and over\")\n",
    "        \n",
    "# Copy dataframe to keep original \n",
    "new_income_df = encoded_data.copy()\n",
    "new_income_df[\"age_group\"] = age_group\n",
    "del new_income_df[\"age\"]\n",
    "​\n"
   ]
  },
  {
   "cell_type": "code",
   "execution_count": null,
   "id": "668da60e",
   "metadata": {},
   "outputs": [],
   "source": []
  }
 ],
 "metadata": {
  "kernelspec": {
   "display_name": "Python 3 (ipykernel)",
   "language": "python",
   "name": "python3"
  },
  "language_info": {
   "codemirror_mode": {
    "name": "ipython",
    "version": 3
   },
   "file_extension": ".py",
   "mimetype": "text/x-python",
   "name": "python",
   "nbconvert_exporter": "python",
   "pygments_lexer": "ipython3",
   "version": "3.9.12"
  }
 },
 "nbformat": 4,
 "nbformat_minor": 5
}
